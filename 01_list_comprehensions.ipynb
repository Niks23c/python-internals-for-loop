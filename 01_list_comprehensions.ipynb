{
 "cells": [
  {
   "cell_type": "markdown",
   "id": "11aa8325",
   "metadata": {},
   "source": [
    "# List Comprehensions in Python"
   ]
  },
  {
   "cell_type": "markdown",
   "id": "d496c0b9",
   "metadata": {},
   "source": [
    "## What is a List Comprehension?"
   ]
  },
  {
   "cell_type": "markdown",
   "id": "b8542567",
   "metadata": {},
   "source": [
    "List comprehensions provide a concise way to create lists."
   ]
  },
  {
   "cell_type": "markdown",
   "id": "7e234cb8",
   "metadata": {},
   "source": [
    "Example: `[x * x for x in range(5)]`"
   ]
  },
  {
   "cell_type": "markdown",
   "id": "7da4cf88",
   "metadata": {},
   "source": [
    "## Examples and Practice"
   ]
  },
  {
   "cell_type": "markdown",
   "id": "ed79eb5d",
   "metadata": {},
   "source": [
    "Try basic examples with conditions and nested loops."
   ]
  }
 ],
 "metadata": {},
 "nbformat": 4,
 "nbformat_minor": 5
}