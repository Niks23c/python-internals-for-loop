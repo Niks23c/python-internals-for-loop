{
 "cells": [
  {
   "cell_type": "markdown",
   "id": "710c78b0",
   "metadata": {},
   "source": [
    "# How Python `for` Loops Work Internally"
   ]
  },
  {
   "cell_type": "markdown",
   "id": "c0f500e0",
   "metadata": {},
   "source": [
    "## The `for` Loop Mechanism"
   ]
  },
  {
   "cell_type": "markdown",
   "id": "6efc3bd0",
   "metadata": {},
   "source": [
    "`for` loops use `iter()` to get an iterator and call `next()` until `StopIteration` is raised."
   ]
  },
  {
   "cell_type": "markdown",
   "id": "c8fff5fa",
   "metadata": {},
   "source": [
    "## Manual Simulation"
   ]
  },
  {
   "cell_type": "markdown",
   "id": "397733a9",
   "metadata": {},
   "source": [
    "```python\n",
    "nums = [1, 2, 3]\n",
    "it = iter(nums)\n",
    "while True:\n",
    "    try:\n",
    "        val = next(it)\n",
    "        print(val)\n",
    "    except StopIteration:\n",
    "        break\n",
    "```"
   ]
  },
  {
   "cell_type": "markdown",
   "id": "b7869834",
   "metadata": {},
   "source": [
    "## Visualization"
   ]
  },
  {
   "cell_type": "markdown",
   "id": "f947dc38",
   "metadata": {},
   "source": [
    "Diagram or explanation of how the loop works internally."
   ]
  }
 ],
 "metadata": {},
 "nbformat": 4,
 "nbformat_minor": 5
}