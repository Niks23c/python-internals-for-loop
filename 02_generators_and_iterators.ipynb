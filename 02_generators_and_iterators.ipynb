{
 "cells": [
  {
   "cell_type": "markdown",
   "id": "bf94b381",
   "metadata": {},
   "source": [
    "# Generators and Iterators in Python"
   ]
  },
  {
   "cell_type": "markdown",
   "id": "89f8f75c",
   "metadata": {},
   "source": [
    "## Generator Functions and `yield`"
   ]
  },
  {
   "cell_type": "markdown",
   "id": "eadeaa84",
   "metadata": {},
   "source": [
    "Generator functions use `yield` to return a value and pause."
   ]
  },
  {
   "cell_type": "markdown",
   "id": "8f1d2dd3",
   "metadata": {},
   "source": [
    "## Generator Expressions"
   ]
  },
  {
   "cell_type": "markdown",
   "id": "c8980b8e",
   "metadata": {},
   "source": [
    "`(x * x for x in range(5))` is a generator expression."
   ]
  },
  {
   "cell_type": "markdown",
   "id": "88e9ad42",
   "metadata": {},
   "source": [
    "## Iterators: `__iter__()` and `__next__()`"
   ]
  },
  {
   "cell_type": "markdown",
   "id": "f2d4cd27",
   "metadata": {},
   "source": [
    "Use `iter()` to get an iterator and `next()` to iterate."
   ]
  }
 ],
 "metadata": {},
 "nbformat": 4,
 "nbformat_minor": 5
}